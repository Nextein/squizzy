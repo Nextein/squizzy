{
 "cells": [
  {
   "cell_type": "markdown",
   "id": "72db0b20-dd24-4d1a-b698-9ba6628c9ac3",
   "metadata": {},
   "source": [
    "# Land market analysis"
   ]
  },
  {
   "cell_type": "markdown",
   "id": "61dbbee6-bf07-4358-9a8c-c8eace6e7aaa",
   "metadata": {},
   "source": [
    "Import modules:"
   ]
  },
  {
   "cell_type": "code",
   "execution_count": 42,
   "id": "e4011890-0992-4d18-a6de-b13d43d7c6bf",
   "metadata": {},
   "outputs": [],
   "source": [
    "import pandas as pd\n",
    "import time\n",
    "import os\n",
    "import json\n",
    "from pprint import pprint\n",
    "import requests\n",
    "from datetime import datetime"
   ]
  },
  {
   "cell_type": "markdown",
   "id": "523895c6-f08d-4ba7-bb46-64611dc8c09a",
   "metadata": {},
   "source": [
    "Fetch data from IMX API:"
   ]
  },
  {
   "cell_type": "code",
   "execution_count": 60,
   "id": "49d02b28-1399-4d5f-a68d-ff7963e4f78d",
   "metadata": {},
   "outputs": [
    {
     "name": "stdout",
     "output_type": "stream",
     "text": [
      "2024-06-25 21:26:29.845475 Fetching next batch...\n"
     ]
    }
   ],
   "source": [
    "API_URL = \"https://api.sandbox.immutable.com/v3/orders\"\n",
    "\n",
    "def fetch_orders():\n",
    "    all_orders = []\n",
    "    params = {\n",
    "        \"status\": \"active\",  # Only fetch orders that are currently active. Set to \"filled\" to fetch past orders.\n",
    "        \"page_size\": 200,  # Request the maximum number of items per page\n",
    "    }\n",
    "\n",
    "    while True:\n",
    "        print(f\"{datetime.now()} Fetching next batch...\")\n",
    "        response = requests.get(API_URL, params=params)\n",
    "        if response.status_code != 200:\n",
    "            print(\"Failed to fetch data: HTTP Status Code\", response.status_code)\n",
    "            break\n",
    "\n",
    "        data = response.json()\n",
    "        # Filter to ensure orders are not filled (amount_sold is None) and match the collection name \"Illuvium Land\"\n",
    "        active_orders = [\n",
    "            order for order in data[\"result\"]\n",
    "            if order.get(\"amount_sold\") is None and\n",
    "               order[\"sell\"][\"data\"][\"properties\"][\"collection\"][\"name\"] == \"Illuvium Land\"\n",
    "        ]\n",
    "        all_orders.extend(active_orders)\n",
    "        \n",
    "        # Check if a cursor is provided to fetch the next page\n",
    "        cursor = data.get(\"cursor\")\n",
    "        break\n",
    "        if cursor:\n",
    "            params[\"cursor\"] = cursor\n",
    "        else:\n",
    "            break\n",
    "\n",
    "    return all_orders\n",
    "\n",
    "data = fetch_orders()"
   ]
  },
  {
   "cell_type": "code",
   "execution_count": 22,
   "id": "e6349c81-ea48-4298-9d64-f4aaa98a8a95",
   "metadata": {},
   "outputs": [
    {
     "name": "stdout",
     "output_type": "stream",
     "text": [
      "{'amount_sold': None,\n",
      " 'buy': {'data': {'decimals': 18,\n",
      "                  'quantity': '2700000000000000000',\n",
      "                  'quantity_with_fees': '2835000000000000000',\n",
      "                  'token_address': ''},\n",
      "         'type': 'ETH'},\n",
      " 'expiration_timestamp': '2123-06-23T19:00:00Z',\n",
      " 'maker_fees': {'decimals': 18,\n",
      "                'fees': [],\n",
      "                'quantity_with_fees': '2700000000000000000',\n",
      "                'symbol': 'ETH',\n",
      "                'token_type': 'ETH'},\n",
      " 'maker_taker_type': 'maker',\n",
      " 'order_id': 624044,\n",
      " 'sell': {'data': {'id': '0xf9a62af1d4b39892f2c138904160656a64f3b6a5ac106106ff2f06c21adc7e84',\n",
      "                   'properties': {'collection': {'icon_url': 'https://assets.sepolia-illuvium-game.io/web/static/collection/ingots/ingots_marketplace_icon.webp',\n",
      "                                                 'name': 'Illuvium Ingots'},\n",
      "                                  'image_url': 'https://sepolia.media.illuvium.io/web/NFT/Ingots/TungarIngot/TungarIngot_default_default_webp.3840x2160/TungarIngot_default_default.webp',\n",
      "                                  'name': 'Tungar Ingot'},\n",
      "                   'quantity': '1',\n",
      "                   'quantity_with_fees': '',\n",
      "                   'token_address': '0x78f001fa02eb8063bab7107166be90eb465df648',\n",
      "                   'token_id': '1436720'},\n",
      "          'type': 'ERC721'},\n",
      " 'status': 'active',\n",
      " 'taker_fees': {'decimals': 18,\n",
      "                'fees': [{'address': '0xa6c368164eb270c31592c1830ed25c2bf5d34bae',\n",
      "                          'amount': '54000000000000000',\n",
      "                          'token': {'data': {'decimals': 18}, 'type': 'ETH'},\n",
      "                          'type': 'protocol'},\n",
      "                         {'address': '0x893bb44004477e74ee09c2ce63992dc067b34ed2',\n",
      "                          'amount': '81000000000000000',\n",
      "                          'token': {'data': {'decimals': 18}, 'type': 'ETH'},\n",
      "                          'type': 'royalty'}],\n",
      "                'quantity_with_fees': '2835000000000000000',\n",
      "                'symbol': 'ETH',\n",
      "                'token_type': 'ETH'},\n",
      " 'timestamp': '2024-06-23T19:39:51.503913Z',\n",
      " 'updated_timestamp': '2024-06-23T19:39:51.503913Z',\n",
      " 'user': '0x8c9ea8099aace4e38c0e468f64bc82171857d7e8'}\n"
     ]
    }
   ],
   "source": [
    "# Load data from JSON file\n",
    "def load_json(filepath):\n",
    "    with open(filepath, 'r') as file:\n",
    "        data = json.load(file)\n",
    "    return data\n",
    "\n",
    "data = load_json('./data/imx/active_orders.json')\n",
    "pprint(data[0])"
   ]
  },
  {
   "cell_type": "markdown",
   "id": "ad521320-7d29-4597-92bd-18c8d6521c33",
   "metadata": {},
   "source": [
    "Preprocess data:"
   ]
  },
  {
   "cell_type": "code",
   "execution_count": 59,
   "id": "c6843e98-6c81-4c39-b706-d3236d435910",
   "metadata": {},
   "outputs": [],
   "source": [
    "for order in data:\n",
    "    collection_name = order['sell']['data']['properties']['collection']['name']\n",
    "    print(collection_name)\n"
   ]
  },
  {
   "cell_type": "code",
   "execution_count": null,
   "id": "c3cf4690-7a34-4704-903b-75b87b2f6a3e",
   "metadata": {},
   "outputs": [],
   "source": []
  },
  {
   "cell_type": "code",
   "execution_count": null,
   "id": "54b8a338-4382-4e60-885f-bdca39e74276",
   "metadata": {},
   "outputs": [],
   "source": []
  }
 ],
 "metadata": {
  "kernelspec": {
   "display_name": "Python 3 (ipykernel)",
   "language": "python",
   "name": "python3"
  },
  "language_info": {
   "codemirror_mode": {
    "name": "ipython",
    "version": 3
   },
   "file_extension": ".py",
   "mimetype": "text/x-python",
   "name": "python",
   "nbconvert_exporter": "python",
   "pygments_lexer": "ipython3",
   "version": "3.12.3"
  }
 },
 "nbformat": 4,
 "nbformat_minor": 5
}
